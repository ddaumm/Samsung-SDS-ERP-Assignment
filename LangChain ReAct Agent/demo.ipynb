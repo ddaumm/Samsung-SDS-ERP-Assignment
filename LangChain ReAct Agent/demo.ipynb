{
 "cells": [
  {
   "cell_type": "code",
   "execution_count": 1,
   "id": "6b8f645a",
   "metadata": {},
   "outputs": [],
   "source": [
    "from langchain_openai import ChatOpenAI\n",
    "from langchain import hub\n",
    "from langchain.agents import create_react_agent, AgentExecutor\n",
    "\n",
    "from config import OPENAI_API_KEY\n",
    "from tools import create_rag_tool, create_google_search_tool, create_website_opener_tool"
   ]
  },
  {
   "cell_type": "code",
   "execution_count": 2,
   "id": "68d06bbc",
   "metadata": {},
   "outputs": [],
   "source": [
    "tools = [\n",
    "    create_rag_tool('simple_graduation_rules.txt', 'utf-8', 150, 50, 'simple_graduation_rules_retriever', '서울대학교 산업공학과 졸업을 위한 졸업 요건에 대한 간단한 질문에 답할 때 사용'),\n",
    "    create_rag_tool('detailed_graduation_rules.pdf', 'utf-8', 300, 100, 'detailed_graduation_rules_retriever', '서울대학교 산업공학과 졸업을 위한 졸업 요건에 대한 복잡한 질문에 답할 때 사용'),\n",
    "    create_google_search_tool(),\n",
    "    create_website_opener_tool()\n",
    "]\n",
    "\n",
    "llm = ChatOpenAI(\n",
    "    model='gpt-4-turbo',\n",
    "    api_key=OPENAI_API_KEY,\n",
    "    temperature=0\n",
    ")\n",
    "\n",
    "prompt = hub.pull(\"hwchase17/react\")\n",
    "\n",
    "agent = create_react_agent(llm, tools, prompt)\n",
    "\n",
    "agent_executor = AgentExecutor(agent=agent, tools=tools, verbose=True)"
   ]
  },
  {
   "cell_type": "code",
   "execution_count": 3,
   "id": "afdd5a7b",
   "metadata": {},
   "outputs": [
    {
     "name": "stdout",
     "output_type": "stream",
     "text": [
      "\n",
      "\n",
      "\u001b[1m> Entering new AgentExecutor chain...\u001b[0m\n",
      "\u001b[32;1m\u001b[1;3mTo answer the question about the specific credit requirements for graduation from the Industrial Engineering department at Seoul National University, including details for major and general education credits, I should use the detailed graduation rules retriever tool. This tool is designed to provide complex and detailed information about graduation requirements.\n",
      "\n",
      "Action: detailed_graduation_rules_retriever\n",
      "Action Input: \"서울대학교 산업공학과 졸업 학점 요건\"\u001b[0m\u001b[33;1m\u001b[1;3m가. 교과목 이수규정\n",
      "⑴ 학사과정 졸업(수료) 이수학점\n",
      "기준년도 서울대학교 교과과정 산업공학과 내규 비고졸업학점 교양학점 주전공학점 전필학점1 학과 전선 학점\n",
      "2008 130 54(55) 62 34 12학점 이상\n",
      "2009 130 55(56) 62 34 12학점 이상 대학영어 이수학점\n",
      "상향 조정\n",
      "2010 130 56 62 34 12학점 이상 컴퓨터의 원리(기초)\n",
      "폐지\n",
      "2011–2012 130 53 62 37 12학점 이상 공학소양 1 · 2 통합\n",
      "130 47 62 34 15학점 이상\n",
      "\n",
      "가. 교과목 이수규정\n",
      "⑴ 학사과정 졸업(수료) 이수학점\n",
      "기준년도 서울대학교 교과과정 산업공학과 내규 비고졸업학점 교양학점 주전공학점 전필학점1 학과 전선 학점\n",
      "2008 130 54(55) 62 34 12학점 이상\n",
      "2009 130 55(56) 62 34 12학점 이상 대학영어 이수학점\n",
      "상향 조정\n",
      "2010 130 56 62 34 12학점 이상 컴퓨터의 원리(기초)\n",
      "폐지\n",
      "2011–2012 130 53 62 37 12학점 이상 공학소양 1 · 2 통합\n",
      "130 47 62 34 15학점 이상\n",
      "\n",
      "산업공학과학생을위한\n",
      "교과목이수및졸업에관한학과내규\n",
      "(2008∼202 학번통합본)\n",
      "최종개정일\n",
      "202 년3월31일\n",
      "서울대학교공과대학\n",
      "산업공학과\n",
      "1이후 \n",
      "1\n",
      "\n",
      "산업공학과학생을위한\n",
      "교과목이수및졸업에관한학과내규\n",
      "(2008∼202 학번통합본)\n",
      "최종개정일\n",
      "202 년3월31일\n",
      "서울대학교공과대학\n",
      "산업공학과\n",
      "1이후 \n",
      "1\u001b[0m\u001b[32;1m\u001b[1;3mThe retrieved information provides detailed credit requirements for graduation from the Industrial Engineering department at Seoul National University. It includes the total credits needed, as well as specific requirements for general education, major compulsory, and major elective credits across different academic years.\n",
      "\n",
      "Final Answer: 서울대학교 산업공학과 졸업을 위해서는 다음과 같은 학점이 필요합니다:\n",
      "- 총 졸업학점: 130학점\n",
      "- 교양학점: 최소 47학점에서 56학점 사이 (년도에 따라 다름)\n",
      "- 주전공학점 (전필학점 + 학과 전선 학점): 62학점\n",
      "  - 전필학점: 34학점에서 37학점 사이 (년도에 따라 다름)\n",
      "  - 학과 전선 학점: 최소 12학점에서 15학점 이상 필요\n",
      "\n",
      "이 정보는 2008년부터 2012년까지의 데이터를 기준으로 하며, 최신 정보는 학과의 내규에 따라 변경될 수 있습니다.\u001b[0m\n",
      "\n",
      "\u001b[1m> Finished chain.\u001b[0m\n"
     ]
    }
   ],
   "source": [
    "response1 = agent_executor.invoke({\n",
    "    \"input\" : \"서울대학교 산업공학과를 졸업하기 위해 필요한 학점은 얼마나 필요해? 전공, 교양 등 각기 영역별로 필요한 학점을 알려줘.\"\n",
    "})"
   ]
  },
  {
   "cell_type": "code",
   "execution_count": 11,
   "id": "f2b4cebc",
   "metadata": {},
   "outputs": [
    {
     "name": "stdout",
     "output_type": "stream",
     "text": [
      "\n",
      "\n",
      "\u001b[1m> Entering new AgentExecutor chain...\u001b[0m\n",
      "\u001b[32;1m\u001b[1;3mTo find the latest graduation requirements for the Department of Industrial Engineering at Seoul National University, I should use a tool that can access the most current and specific information.\n",
      "\n",
      "Action: google_web_search\n",
      "Action Input: \"Seoul National University Industrial Engineering latest graduation requirements\"\u001b[0m\u001b[38;5;200m\u001b[1;3mSNU has one Graduate School with 106 programs across five fields of study. Interdisciplinary programs are operated by more than two different departments. Department / College, Graduate School · Civil and Environmental Engineering · Architecture and Architectural Engineering · Mechanical Engineering · Industrial ... SNU's 15 Colleges offer various undergraduate degree programs. Those who want to study in 'interdisciplinary programs for undergraduate's or 'combined minor' ... Graduation Requirementsopenopen. Undergraduate · graduate · Researchopen ... COPYRIGHT c 2025 Department of Mechanical Engineering, Seoul National University. Oct 29, 2024 ... Solberg Head and Ransburg Professor in Purdue's School of Industrial Engineering; Arvind Raman, the John A. Edwardson Dean of the College of ... Building on this achievement, he is expected to demonstrate both academic and industrial leadership in the field of next-generation 2D semiconductor integrated ... Oct 5, 2022 ... Purdue Industrial Engineering Alumni, Yoo S. Hong (PhD, '02), was recently named Dean of Engineering at the Seoul National University College of Engineering. Jun 17, 2014 ... ... universities to offer a joint doctoral degree. The new mechanical engineering program with Seoul National University (SNU) will give ... Seoul National University, College of Engineering ... MajorTechno-Economic Analysis of Engineering Systems, Industrial Applications of Market Design. ... Seoul National University, Department of Industrial Engineering ... 2022-Current: Professor, Seoul National University, Graduate School of Engineering Practice.\u001b[0m\u001b[32;1m\u001b[1;3mThe search results contain general information about Seoul National University and its engineering programs, but specific details about the latest graduation requirements for the Department of Industrial Engineering are not clearly outlined. To get precise and detailed information, I should use a more targeted approach.\n",
      "\n",
      "Action: detailed_graduation_rules_retriever\n",
      "Action Input: \"Seoul National University Industrial Engineering graduation requirements\"\u001b[0m\u001b[33;1m\u001b[1;3m산업공학과학생을위한\n",
      "교과목이수및졸업에관한학과내규\n",
      "(2008∼202 학번통합본)\n",
      "최종개정일\n",
      "202 년3월31일\n",
      "서울대학교공과대학\n",
      "산업공학과\n",
      "1이후 \n",
      "1\n",
      "\n",
      "㈎ 공과대학 공통과목 중개론과목(선택적전공필수) 이수요건은2011–2012년입학자에게만 해당.\n",
      "㈏ 학과개설전선학점을산정함에 있어, 해당 기준년도의전공필수교과목을모두이수한 학생에\n",
      "한하여 추가적으로 이수한 전공필수교과목을전공선택으로 인정받을수있다.\n",
      "㈐ 학과개설전선학점은원칙적으로 본교산업공학과에서개설한 교과목만을포함하나, 국외수학\n",
      "허가자의경우국외기관에서개설한 교과목과학과개설전공선택 교과목과의대응관계가인정\n",
      "될경우별도의승인절차를 거쳐 최대9학점까지학과개설전선학점으로 인정할 수있다.\n",
      "\n",
      "생산관리 ✓ ✓ ✓ ✓ ✓ ✓ ✓\n",
      "경제성공학 ✓ ✓ ✓ ✓ ✓ ✓ ✓\n",
      "품질경영 ✓ ✓ ✓ ✓ ✓\n",
      "선형 및 비선형 최적화\n",
      "(선형계획)\n",
      "✓ ✓ ✓ ✓ ✓ ✓\n",
      "학점 계 34 34 34 37 37 34 28\n",
      "공대공통 개론 교과목 (택일) : 2011–2012 년 입학자에게만 해당\n",
      "기계공학개론, 전기· 정보공학개론, 재료공학개론, 건설환경공학개론, 화학생물공학개론, 에너지\n",
      "자원공학개론, 융합공학도를 위한 전기전자회로 및 실험 (M1277.003200), IoT · 인공지능· 빅\n",
      "데이터 이론 및 실습(M1277.004900)\n",
      "3\n",
      "\n",
      "• 컴퓨터의개념및실습(035.011) 또는 이와동등한 수준의교과목\n",
      "⑵ 산업공학 부전공의선발시에는 ⑴항의교과목을이수한 학생을우선선발한다.\n",
      "다. 복수전공이수규정\n",
      "⑴ 타 학과(부) 소속학생이산업공학을복수전공으로 이수하기위해서는 해당 기준년도의모든전공\n",
      "필수교과목(‘인간공학실험’ 및‘산업공학의이해’는 면제)을이수해야 하며, 추가로 학과개설전공\n",
      "선택 교과목을 이수하여 복수전공에 필요한 최소 이수학점인 39학점을 만족해야 한다. 단, 『서울\n",
      "대학교교과과정』에 의하여 중복인정된전공과목은이수학점에 포함될수있다.\u001b[0m\u001b[32;1m\u001b[1;3mI now know the final answer\n",
      "Final Answer: The latest graduation requirements for the Department of Industrial Engineering at Seoul National University include completing core courses specific to the department, with options for interdisciplinary programs and double majors. Specific courses such as Production Management, Economic Engineering, Quality Management, and Linear and Nonlinear Optimization are required. Students must also meet a minimum credit requirement, which varies by the year of admission. For double majors, students must complete all core courses from the Industrial Engineering department, excluding certain courses like 'Human Engineering Experiment' and 'Understanding Industrial Engineering', and achieve a minimum of 39 credits. Additional credits from approved courses at foreign institutions may also be recognized up to a maximum of 9 credits.\u001b[0m\n",
      "\n",
      "\u001b[1m> Finished chain.\u001b[0m\n"
     ]
    }
   ],
   "source": [
    "response2 = agent_executor.invoke({\n",
    "    \"input\" : \"서울대학교 산업공학과의 최신 졸업 이수 규정을 검색해줘.\"\n",
    "})"
   ]
  },
  {
   "cell_type": "code",
   "execution_count": 12,
   "id": "c8e29ef7",
   "metadata": {},
   "outputs": [
    {
     "name": "stdout",
     "output_type": "stream",
     "text": [
      "\n",
      "\n",
      "\u001b[1m> Entering new AgentExecutor chain...\u001b[0m\n",
      "\u001b[32;1m\u001b[1;3mThe user wants to access their academic progress status at Seoul National University. The best way to provide this information is by opening the relevant webpage where they can directly check their status.\n",
      "\n",
      "Action: website_opener\n",
      "Action Input: 서울대학교 학업 이수 현황\u001b[0m\u001b[36;1m\u001b[1;3m성공적으로 '서울대학교 학업 이수 현황' [https://snugenie.snu.ac.kr/mypage/stdCmplCond.do]을 브라우저에서 열었음.\u001b[0m\u001b[32;1m\u001b[1;3mI now know the final answer\n",
      "Final Answer: 서울대학교 학업 이수 현황 페이지를 성공적으로 열었습니다. 해당 페이지에서 직접 자신의 학업 이수 현황을 확인할 수 있습니다.\u001b[0m\n",
      "\n",
      "\u001b[1m> Finished chain.\u001b[0m\n"
     ]
    }
   ],
   "source": [
    "response3 = agent_executor.invoke({\n",
    "    \"input\" : \"현재 내 서울대학교 학업 이수 현황을 알고 싶어. 관련 웹페이지를 연결해줘.\"\n",
    "})"
   ]
  },
  {
   "cell_type": "code",
   "execution_count": 4,
   "id": "4d445544",
   "metadata": {},
   "outputs": [
    {
     "name": "stdout",
     "output_type": "stream",
     "text": [
      "서울대학교 산업공학과 졸업을 위해서는 다음과 같은 학점이 필요합니다:\n",
      "- 총 졸업학점: 130학점\n",
      "- 교양학점: 최소 47학점에서 56학점 사이 (년도에 따라 다름)\n",
      "- 주전공학점 (전필학점 + 학과 전선 학점): 62학점\n",
      "  - 전필학점: 34학점에서 37학점 사이 (년도에 따라 다름)\n",
      "  - 학과 전선 학점: 최소 12학점에서 15학점 이상 필요\n",
      "\n",
      "이 정보는 2008년부터 2012년까지의 데이터를 기준으로 하며, 최신 정보는 학과의 내규에 따라 변경될 수 있습니다.\n"
     ]
    }
   ],
   "source": [
    "print(response1['output'])"
   ]
  },
  {
   "cell_type": "code",
   "execution_count": 15,
   "id": "f41cb227",
   "metadata": {},
   "outputs": [
    {
     "name": "stdout",
     "output_type": "stream",
     "text": [
      "The latest graduation requirements for the Department of Industrial Engineering at Seoul National University include completing core courses specific to the department, with options for interdisciplinary programs and double majors. Specific courses such as Production Management, Economic Engineering, Quality Management, and Linear and Nonlinear Optimization are required. Students must also meet a minimum credit requirement, which varies by the year of admission. For double majors, students must complete all core courses from the Industrial Engineering department, excluding certain courses like 'Human Engineering Experiment' and 'Understanding Industrial Engineering', and achieve a minimum of 39 credits. Additional credits from approved courses at foreign institutions may also be recognized up to a maximum of 9 credits.\n"
     ]
    }
   ],
   "source": [
    "print(response2['output'])"
   ]
  },
  {
   "cell_type": "code",
   "execution_count": 16,
   "id": "ea89ca26",
   "metadata": {},
   "outputs": [
    {
     "name": "stdout",
     "output_type": "stream",
     "text": [
      "서울대학교 학업 이수 현황 페이지를 성공적으로 열었습니다. 해당 페이지에서 직접 자신의 학업 이수 현황을 확인할 수 있습니다.\n"
     ]
    }
   ],
   "source": [
    "print(response3['output'])"
   ]
  }
 ],
 "metadata": {
  "kernelspec": {
   "display_name": "Python 3",
   "language": "python",
   "name": "python3"
  },
  "language_info": {
   "codemirror_mode": {
    "name": "ipython",
    "version": 3
   },
   "file_extension": ".py",
   "mimetype": "text/x-python",
   "name": "python",
   "nbconvert_exporter": "python",
   "pygments_lexer": "ipython3",
   "version": "3.13.5"
  }
 },
 "nbformat": 4,
 "nbformat_minor": 5
}
