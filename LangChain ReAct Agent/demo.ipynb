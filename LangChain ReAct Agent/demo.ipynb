{
 "cells": [
  {
   "cell_type": "code",
   "execution_count": 1,
   "id": "6b8f645a",
   "metadata": {},
   "outputs": [],
   "source": [
    "from langchain_openai import ChatOpenAI\n",
    "from langchain import hub\n",
    "from langchain.agents import create_react_agent, AgentExecutor\n",
    "from langchain.memory import ConversationBufferMemory\n",
    "\n",
    "from config import OPENAI_API_KEY\n",
    "from tools import create_rag_tool, create_google_search_tool, create_website_opener_tool"
   ]
  },
  {
   "cell_type": "code",
   "execution_count": 2,
   "id": "f9e248b9",
   "metadata": {},
   "outputs": [
    {
     "name": "stdout",
     "output_type": "stream",
     "text": [
      "LangSmith 추적을 시작합니다.\n",
      "[프로젝트명]\n",
      "LangChain_ReAct_Agent\n"
     ]
    }
   ],
   "source": [
    "from langchain_teddynote import logging\n",
    "\n",
    "logging.langsmith(\"LangChain_ReAct_Agent\")"
   ]
  },
  {
   "cell_type": "code",
   "execution_count": null,
   "id": "68d06bbc",
   "metadata": {},
   "outputs": [
    {
     "name": "stderr",
     "output_type": "stream",
     "text": [
      "C:\\Users\\dlaek\\AppData\\Local\\Temp\\ipykernel_29280\\317418207.py:18: LangChainDeprecationWarning: Please see the migration guide at: https://python.langchain.com/docs/versions/migrating_memory/\n",
      "  memory = ConversationBufferMemory(memory_key='chat_history', return_messages=True)\n"
     ]
    }
   ],
   "source": [
    "tools = [\n",
    "    create_rag_tool('detailed_graduation_rules.pdf', 'utf-8', 300, 100, 'detailed_graduation_rules_retriever', '서울대학교 산업공학과 졸업을 위한 졸업 요건에 대한 세부 사항을 물어보는 질문에 답할 때 사용'),\n",
    "    create_google_search_tool(),\n",
    "    create_website_opener_tool()\n",
    "]\n",
    "\n",
    "llm = ChatOpenAI(\n",
    "    model='gpt-3.5-turbo',\n",
    "    api_key=OPENAI_API_KEY,\n",
    "    temperature=0\n",
    ")\n",
    "\n",
    "prompt = hub.pull('hwchase17/react-chat')\n",
    "\n",
    "agent = create_react_agent(llm, tools, prompt)\n",
    "\n",
    "# ConversationBufferMemory vs ConversationSummaryMemory (추후, 결정하기)\n",
    "memory = ConversationBufferMemory(memory_key='chat_history', return_messages=True)\n",
    "\n",
    "agent_executor = AgentExecutor(\n",
    "    agent=agent, \n",
    "    tools=tools,\n",
    "    memory=memory,\n",
    "    # ReAct 과정 출력 여부\n",
    "    verbose=True,\n",
    "    # 출력 형식 오류 자동 처리 및 복구 여부\n",
    "    handling_parsing_erros=True\n",
    ")"
   ]
  },
  {
   "cell_type": "code",
   "execution_count": 4,
   "id": "afdd5a7b",
   "metadata": {},
   "outputs": [
    {
     "name": "stdout",
     "output_type": "stream",
     "text": [
      "\n",
      "\n",
      "\u001b[1m> Entering new AgentExecutor chain...\u001b[0m\n",
      "\u001b[32;1m\u001b[1;3mThought: Do I need to use a tool? Yes\n",
      "Action: detailed_graduation_rules_retriever\n",
      "Action Input: 서울대학교 산업공학과 졸업 요건\u001b[0m\u001b[36;1m\u001b[1;3m산업공학과학생을위한\n",
      "교과목이수및졸업에관한학과내규\n",
      "(2008∼202 학번통합본)\n",
      "최종개정일\n",
      "202 년3월31일\n",
      "서울대학교공과대학\n",
      "산업공학과\n",
      "1이후 \n",
      "1\n",
      "\n",
      "산업공학과학생을위한\n",
      "교과목이수및졸업에관한학과내규\n",
      "(2008∼202 학번통합본)\n",
      "최종개정일\n",
      "202 년3월31일\n",
      "서울대학교공과대학\n",
      "산업공학과\n",
      "1이후 \n",
      "1\n",
      "\n",
      "산업공학과학생을위한\n",
      "교과목이수및졸업에관한학과내규\n",
      "(2008∼202 학번통합본)\n",
      "최종개정일\n",
      "202 년3월31일\n",
      "서울대학교공과대학\n",
      "산업공학과\n",
      "1이후 \n",
      "1\n",
      "\n",
      "‘전필학점’과‘학과개설전선학점’에 대한 이수요건을모두만족한 후‘주전공학점’ 이수학점\n",
      "을만족해야 함.)\n",
      "㈒ 학과 개설‘산업공학개론’ 교과목은소속학생의주전공으로 인정하지아니한다.\n",
      "⑵ 학사과정 졸업(수료)을 위하여는 ‘대학원세미나 과목’ 1학점을 이수하여야 한다.\n",
      "㈎ 대학원세미나 과목은매학년도1학기에만 개설됨.\n",
      "㈏ 단, 아래의서울대학교학칙에 의하여, 대학원세미나 수업을1 · 2학년때 수강할 경우학사과\n",
      "정 졸업학점에 포함되지않음을 유의하기바람. 따라서, 가능하면 대학원세미나 수업은3 · 4\u001b[0m\u001b[32;1m\u001b[1;3m학년 때 수강하는 것이 좋다.\n",
      "\n",
      "졸업을 위한 학점 요건은 다음과 같습니다:\n",
      "1. 전공 필수 과목: 학과에서 정한 필수 과목을 모두 이수해야 합니다.\n",
      "2. 전공 선택 과목: 학과에서 개설하는 선택 과목 중 일정 학점을 이수해야 합니다.\n",
      "3. 교양 과목: 대학에서 요구하는 교양 과목 학점을 이수해야 합니다.\n",
      "4. 대학원 세미나 과목: 적어도 1학점을 이수해야 하며, 이 과목은 매년 1학기에만 개설됩니다. 1학년과 2학년 때 수강할 경우 학사 과정 졸업 학점에 포함되지 않으므로 주의가 필요합니다.\n",
      "\n",
      "상세한 학점 분배와 각 과목에 대한 자세한 정보는 학과의 최신 내규를 확인하거나 학과 사무실에 문의하는 것이 좋습니다. 이 정보는 학과에 따라 변경될 수 있으므로 최신 정보를 확인하는 것이 중요합니다.\n",
      "\n",
      "Thought: Do I need to use a tool? No\n",
      "Final Answer: 서울대학교 산업공학과 졸업을 위해서는 전공 필수 과목, 전공 선택 과목, 교양 과목 등을 포함한 일정 학점을 이수해야 합니다. 또한, 대학원 세미나 과목을 최소 1학점 이수해야 하며, 이 과목은 매년 1학기에만 개설되므로 계획을 잘 세워야 합니다. 자세한 학점 요건과 과목 구성은 학과의 최신 내규를 참조하거나 학과 사무실에 문의하는 것이 좋습니다.\u001b[0m\n",
      "\n",
      "\u001b[1m> Finished chain.\u001b[0m\n"
     ]
    }
   ],
   "source": [
    "response1 = agent_executor.invoke({\n",
    "    \"input\" : \"안녕 내 이름은 다움이야. 서울대학교 산업공학과를 졸업하기 위해 필요한 학점은 얼마나 필요해? 전공, 교양 등 각기 영역별로 필요한 학점을 알려줘.\"\n",
    "})"
   ]
  },
  {
   "cell_type": "code",
   "execution_count": 5,
   "id": "f2b4cebc",
   "metadata": {},
   "outputs": [
    {
     "name": "stdout",
     "output_type": "stream",
     "text": [
      "\n",
      "\n",
      "\u001b[1m> Entering new AgentExecutor chain...\u001b[0m\n",
      "\u001b[32;1m\u001b[1;3mThought: Do I need to use a tool? No\n",
      "Final Answer: 네, 당신의 이름은 다움이라고 말씀하셨어요.\u001b[0m\n",
      "\n",
      "\u001b[1m> Finished chain.\u001b[0m\n"
     ]
    }
   ],
   "source": [
    "response2 = agent_executor.invoke({\n",
    "    \"input\" : \"내 이름이 무엇인지 알아?\"\n",
    "})"
   ]
  },
  {
   "cell_type": "code",
   "execution_count": 6,
   "id": "c8e29ef7",
   "metadata": {},
   "outputs": [
    {
     "name": "stdout",
     "output_type": "stream",
     "text": [
      "\n",
      "\n",
      "\u001b[1m> Entering new AgentExecutor chain...\u001b[0m\n",
      "\u001b[32;1m\u001b[1;3mThought: Do I need to use a tool? No\n",
      "Final Answer: 처음에 다움님이 물어보신 질문은 \"서울대학교 산업공학과를 졸업하기 위해 필요한 학점은 얼마나 필요해? 전공, 교양 등 각기 영역별로 필요한 학점을 알려줘.\" 였습니다.\u001b[0m\n",
      "\n",
      "\u001b[1m> Finished chain.\u001b[0m\n"
     ]
    }
   ],
   "source": [
    "response3 = agent_executor.invoke({\n",
    "    \"input\" : \"내가 처음 물어본 질문이 무엇이었지?\"\n",
    "})"
   ]
  },
  {
   "cell_type": "code",
   "execution_count": 7,
   "id": "4d445544",
   "metadata": {},
   "outputs": [
    {
     "name": "stdout",
     "output_type": "stream",
     "text": [
      "서울대학교 산업공학과 졸업을 위해서는 전공 필수 과목, 전공 선택 과목, 교양 과목 등을 포함한 일정 학점을 이수해야 합니다. 또한, 대학원 세미나 과목을 최소 1학점 이수해야 하며, 이 과목은 매년 1학기에만 개설되므로 계획을 잘 세워야 합니다. 자세한 학점 요건과 과목 구성은 학과의 최신 내규를 참조하거나 학과 사무실에 문의하는 것이 좋습니다.\n"
     ]
    }
   ],
   "source": [
    "print(response1['output'])"
   ]
  },
  {
   "cell_type": "code",
   "execution_count": 8,
   "id": "f41cb227",
   "metadata": {},
   "outputs": [
    {
     "name": "stdout",
     "output_type": "stream",
     "text": [
      "네, 당신의 이름은 다움이라고 말씀하셨어요.\n"
     ]
    }
   ],
   "source": [
    "print(response2['output'])"
   ]
  },
  {
   "cell_type": "code",
   "execution_count": 9,
   "id": "ea89ca26",
   "metadata": {},
   "outputs": [
    {
     "name": "stdout",
     "output_type": "stream",
     "text": [
      "처음에 다움님이 물어보신 질문은 \"서울대학교 산업공학과를 졸업하기 위해 필요한 학점은 얼마나 필요해? 전공, 교양 등 각기 영역별로 필요한 학점을 알려줘.\" 였습니다.\n"
     ]
    }
   ],
   "source": [
    "print(response3['output'])"
   ]
  }
 ],
 "metadata": {
  "kernelspec": {
   "display_name": "Python 3",
   "language": "python",
   "name": "python3"
  },
  "language_info": {
   "codemirror_mode": {
    "name": "ipython",
    "version": 3
   },
   "file_extension": ".py",
   "mimetype": "text/x-python",
   "name": "python",
   "nbconvert_exporter": "python",
   "pygments_lexer": "ipython3",
   "version": "3.13.5"
  }
 },
 "nbformat": 4,
 "nbformat_minor": 5
}
